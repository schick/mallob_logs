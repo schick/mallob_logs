{
 "metadata": {
  "language_info": {
   "codemirror_mode": {
    "name": "ipython",
    "version": 3
   },
   "file_extension": ".py",
   "mimetype": "text/x-python",
   "name": "python",
   "nbconvert_exporter": "python",
   "pygments_lexer": "ipython3",
   "version": "3.8.3-final"
  },
  "orig_nbformat": 2,
  "kernelspec": {
   "name": "python3",
   "display_name": "Python 3",
   "language": "python"
  }
 },
 "nbformat": 4,
 "nbformat_minor": 2,
 "cells": [
  {
   "cell_type": "code",
   "execution_count": 1,
   "metadata": {},
   "outputs": [],
   "source": [
    "import matplotlib\n",
    "import pandas as pd\n",
    "from matplotlib import pyplot as plt\n",
    "from glob import glob\n",
    "\n",
    "from extract.jobs import parse_mallob, get_baseline\n",
    "from extract.threads import parse_threads"
   ]
  },
  {
   "cell_type": "code",
   "execution_count": 15,
   "metadata": {
    "tags": []
   },
   "outputs": [
    {
     "output_type": "execute_result",
     "data": {
      "text/plain": [
       "     job  rank  instance  times_started  run_time  wait_time  processed_cubes  \\\n",
       "560    4    14         0              1   887.421      0.000                1   \n",
       "692   22     4        24              1   749.560      0.000                1   \n",
       "772   28     6        31              1   724.000      5.010                1   \n",
       "325   21     1        28              1   312.650      0.000                1   \n",
       "36    37    13        56              1   922.410     12.840                3   \n",
       "..   ...   ...       ...            ...       ...        ...              ...   \n",
       "480    5     8         6              1   999.734      0.000                1   \n",
       "481    5     8         7              1   999.724      0.230                1   \n",
       "482    5     8         5              1   999.734      0.326                1   \n",
       "483    5     8         4              1   999.734      0.133                1   \n",
       "590   37    14        66              1   939.130      2.250                1   \n",
       "\n",
       "     solves  solved  failed_cubes  interruptions  average_time_per_cube  \n",
       "560       0    True             0              0             887.420800  \n",
       "692       0    True             0              0             749.550000  \n",
       "772       0    True             0              0             718.990000  \n",
       "325       0    True             0              0             312.650000  \n",
       "36        0   False             3              0             303.186667  \n",
       "..      ...     ...           ...            ...                    ...  \n",
       "480       0   False             0              1              -1.000000  \n",
       "481       0   False             0              1              -1.000000  \n",
       "482       0   False             0              1              -1.000000  \n",
       "483       0   False             0              1              -1.000000  \n",
       "590       0   False             0              1              -1.000000  \n",
       "\n",
       "[1180 rows x 12 columns]"
      ],
      "text/html": "<div>\n<style scoped>\n    .dataframe tbody tr th:only-of-type {\n        vertical-align: middle;\n    }\n\n    .dataframe tbody tr th {\n        vertical-align: top;\n    }\n\n    .dataframe thead th {\n        text-align: right;\n    }\n</style>\n<table border=\"1\" class=\"dataframe\">\n  <thead>\n    <tr style=\"text-align: right;\">\n      <th></th>\n      <th>job</th>\n      <th>rank</th>\n      <th>instance</th>\n      <th>times_started</th>\n      <th>run_time</th>\n      <th>wait_time</th>\n      <th>processed_cubes</th>\n      <th>solves</th>\n      <th>solved</th>\n      <th>failed_cubes</th>\n      <th>interruptions</th>\n      <th>average_time_per_cube</th>\n    </tr>\n  </thead>\n  <tbody>\n    <tr>\n      <th>560</th>\n      <td>4</td>\n      <td>14</td>\n      <td>0</td>\n      <td>1</td>\n      <td>887.421</td>\n      <td>0.000</td>\n      <td>1</td>\n      <td>0</td>\n      <td>True</td>\n      <td>0</td>\n      <td>0</td>\n      <td>887.420800</td>\n    </tr>\n    <tr>\n      <th>692</th>\n      <td>22</td>\n      <td>4</td>\n      <td>24</td>\n      <td>1</td>\n      <td>749.560</td>\n      <td>0.000</td>\n      <td>1</td>\n      <td>0</td>\n      <td>True</td>\n      <td>0</td>\n      <td>0</td>\n      <td>749.550000</td>\n    </tr>\n    <tr>\n      <th>772</th>\n      <td>28</td>\n      <td>6</td>\n      <td>31</td>\n      <td>1</td>\n      <td>724.000</td>\n      <td>5.010</td>\n      <td>1</td>\n      <td>0</td>\n      <td>True</td>\n      <td>0</td>\n      <td>0</td>\n      <td>718.990000</td>\n    </tr>\n    <tr>\n      <th>325</th>\n      <td>21</td>\n      <td>1</td>\n      <td>28</td>\n      <td>1</td>\n      <td>312.650</td>\n      <td>0.000</td>\n      <td>1</td>\n      <td>0</td>\n      <td>True</td>\n      <td>0</td>\n      <td>0</td>\n      <td>312.650000</td>\n    </tr>\n    <tr>\n      <th>36</th>\n      <td>37</td>\n      <td>13</td>\n      <td>56</td>\n      <td>1</td>\n      <td>922.410</td>\n      <td>12.840</td>\n      <td>3</td>\n      <td>0</td>\n      <td>False</td>\n      <td>3</td>\n      <td>0</td>\n      <td>303.186667</td>\n    </tr>\n    <tr>\n      <th>...</th>\n      <td>...</td>\n      <td>...</td>\n      <td>...</td>\n      <td>...</td>\n      <td>...</td>\n      <td>...</td>\n      <td>...</td>\n      <td>...</td>\n      <td>...</td>\n      <td>...</td>\n      <td>...</td>\n      <td>...</td>\n    </tr>\n    <tr>\n      <th>480</th>\n      <td>5</td>\n      <td>8</td>\n      <td>6</td>\n      <td>1</td>\n      <td>999.734</td>\n      <td>0.000</td>\n      <td>1</td>\n      <td>0</td>\n      <td>False</td>\n      <td>0</td>\n      <td>1</td>\n      <td>-1.000000</td>\n    </tr>\n    <tr>\n      <th>481</th>\n      <td>5</td>\n      <td>8</td>\n      <td>7</td>\n      <td>1</td>\n      <td>999.724</td>\n      <td>0.230</td>\n      <td>1</td>\n      <td>0</td>\n      <td>False</td>\n      <td>0</td>\n      <td>1</td>\n      <td>-1.000000</td>\n    </tr>\n    <tr>\n      <th>482</th>\n      <td>5</td>\n      <td>8</td>\n      <td>5</td>\n      <td>1</td>\n      <td>999.734</td>\n      <td>0.326</td>\n      <td>1</td>\n      <td>0</td>\n      <td>False</td>\n      <td>0</td>\n      <td>1</td>\n      <td>-1.000000</td>\n    </tr>\n    <tr>\n      <th>483</th>\n      <td>5</td>\n      <td>8</td>\n      <td>4</td>\n      <td>1</td>\n      <td>999.734</td>\n      <td>0.133</td>\n      <td>1</td>\n      <td>0</td>\n      <td>False</td>\n      <td>0</td>\n      <td>1</td>\n      <td>-1.000000</td>\n    </tr>\n    <tr>\n      <th>590</th>\n      <td>37</td>\n      <td>14</td>\n      <td>66</td>\n      <td>1</td>\n      <td>939.130</td>\n      <td>2.250</td>\n      <td>1</td>\n      <td>0</td>\n      <td>False</td>\n      <td>0</td>\n      <td>1</td>\n      <td>-1.000000</td>\n    </tr>\n  </tbody>\n</table>\n<p>1180 rows × 12 columns</p>\n</div>"
     },
     "metadata": {},
     "execution_count": 15
    }
   ],
   "source": [
    "pair = parse_threads(\"benchmark/test/\")\n",
    "\n",
    "pd.DataFrame(pair[1]).sort_values(\"average_time_per_cube\", ascending=False)"
   ]
  },
  {
   "cell_type": "code",
   "execution_count": null,
   "metadata": {},
   "outputs": [],
   "source": []
  },
  {
   "cell_type": "code",
   "execution_count": 16,
   "metadata": {},
   "outputs": [
    {
     "output_type": "execute_result",
     "data": {
      "text/plain": [
       "      ID  Arrival  Priority  \\\n",
       "0      1        0         1   \n",
       "1      2        0         1   \n",
       "2      3        0         1   \n",
       "3      4        0         1   \n",
       "4      5        0         1   \n",
       "..   ...      ...       ...   \n",
       "266  267        0         1   \n",
       "267  268        0         1   \n",
       "268  269        0         1   \n",
       "269  270        0         1   \n",
       "270  271        0         1   \n",
       "\n",
       "                                              filename  \\\n",
       "0                    b2005-p4-12x12c10h7-Ser4-0.cnf.xz   \n",
       "1                                  mulhs16.smt2.cnf.xz   \n",
       "2                                     newpol7-6.cnf.xz   \n",
       "3                                    g2-T85.2.1.cnf.xz   \n",
       "4                          6g_5color_170_030_04.cnf.xz   \n",
       "..                                                 ...   \n",
       "266             preimage_80r_493m_160h_seed_457.cnf.xz   \n",
       "267  combined-crypto1-wff-seed-110-wffvars-500-cryp...   \n",
       "268  LED_round_29-32_faultAt_29_fault_injections_5_...   \n",
       "269                     abw-O-impcol_d.mtx-w101.cnf.xz   \n",
       "270  sv-comp19_prop-reachsafety.queue_longer_false-...   \n",
       "\n",
       "                                 hash   result  \n",
       "0    bb12ece2fc8c01870418908a3dd8341f  unknown  \n",
       "1    e3554a7be21336aa38a5fd7c7a1c9261  unknown  \n",
       "2    ac6578650f8c5211fbaa1f86a46ccf6e    unsat  \n",
       "3    976649ddfe27c60bacb508ecd3499f39    unsat  \n",
       "4    29be431e9dee1550957c8483be4532e4  unknown  \n",
       "..                                ...      ...  \n",
       "266  2e29192bee7f468c3c6e1b7088829575      sat  \n",
       "267  940aeb30818a6b0656c9906a32bcd7bc      sat  \n",
       "268  e47010231e43a6d68519a57c386a5509  unknown  \n",
       "269  552b8976b37b0d8b58bc8edad91c5695      sat  \n",
       "270  b14723fd0acbb7a5b497c4ddb4e3d813      sat  \n",
       "\n",
       "[271 rows x 6 columns]"
      ],
      "text/html": "<div>\n<style scoped>\n    .dataframe tbody tr th:only-of-type {\n        vertical-align: middle;\n    }\n\n    .dataframe tbody tr th {\n        vertical-align: top;\n    }\n\n    .dataframe thead th {\n        text-align: right;\n    }\n</style>\n<table border=\"1\" class=\"dataframe\">\n  <thead>\n    <tr style=\"text-align: right;\">\n      <th></th>\n      <th>ID</th>\n      <th>Arrival</th>\n      <th>Priority</th>\n      <th>filename</th>\n      <th>hash</th>\n      <th>result</th>\n    </tr>\n  </thead>\n  <tbody>\n    <tr>\n      <th>0</th>\n      <td>1</td>\n      <td>0</td>\n      <td>1</td>\n      <td>b2005-p4-12x12c10h7-Ser4-0.cnf.xz</td>\n      <td>bb12ece2fc8c01870418908a3dd8341f</td>\n      <td>unknown</td>\n    </tr>\n    <tr>\n      <th>1</th>\n      <td>2</td>\n      <td>0</td>\n      <td>1</td>\n      <td>mulhs16.smt2.cnf.xz</td>\n      <td>e3554a7be21336aa38a5fd7c7a1c9261</td>\n      <td>unknown</td>\n    </tr>\n    <tr>\n      <th>2</th>\n      <td>3</td>\n      <td>0</td>\n      <td>1</td>\n      <td>newpol7-6.cnf.xz</td>\n      <td>ac6578650f8c5211fbaa1f86a46ccf6e</td>\n      <td>unsat</td>\n    </tr>\n    <tr>\n      <th>3</th>\n      <td>4</td>\n      <td>0</td>\n      <td>1</td>\n      <td>g2-T85.2.1.cnf.xz</td>\n      <td>976649ddfe27c60bacb508ecd3499f39</td>\n      <td>unsat</td>\n    </tr>\n    <tr>\n      <th>4</th>\n      <td>5</td>\n      <td>0</td>\n      <td>1</td>\n      <td>6g_5color_170_030_04.cnf.xz</td>\n      <td>29be431e9dee1550957c8483be4532e4</td>\n      <td>unknown</td>\n    </tr>\n    <tr>\n      <th>...</th>\n      <td>...</td>\n      <td>...</td>\n      <td>...</td>\n      <td>...</td>\n      <td>...</td>\n      <td>...</td>\n    </tr>\n    <tr>\n      <th>266</th>\n      <td>267</td>\n      <td>0</td>\n      <td>1</td>\n      <td>preimage_80r_493m_160h_seed_457.cnf.xz</td>\n      <td>2e29192bee7f468c3c6e1b7088829575</td>\n      <td>sat</td>\n    </tr>\n    <tr>\n      <th>267</th>\n      <td>268</td>\n      <td>0</td>\n      <td>1</td>\n      <td>combined-crypto1-wff-seed-110-wffvars-500-cryp...</td>\n      <td>940aeb30818a6b0656c9906a32bcd7bc</td>\n      <td>sat</td>\n    </tr>\n    <tr>\n      <th>268</th>\n      <td>269</td>\n      <td>0</td>\n      <td>1</td>\n      <td>LED_round_29-32_faultAt_29_fault_injections_5_...</td>\n      <td>e47010231e43a6d68519a57c386a5509</td>\n      <td>unknown</td>\n    </tr>\n    <tr>\n      <th>269</th>\n      <td>270</td>\n      <td>0</td>\n      <td>1</td>\n      <td>abw-O-impcol_d.mtx-w101.cnf.xz</td>\n      <td>552b8976b37b0d8b58bc8edad91c5695</td>\n      <td>sat</td>\n    </tr>\n    <tr>\n      <th>270</th>\n      <td>271</td>\n      <td>0</td>\n      <td>1</td>\n      <td>sv-comp19_prop-reachsafety.queue_longer_false-...</td>\n      <td>b14723fd0acbb7a5b497c4ddb4e3d813</td>\n      <td>sat</td>\n    </tr>\n  </tbody>\n</table>\n<p>271 rows × 6 columns</p>\n</div>"
     },
     "metadata": {},
     "execution_count": 16
    }
   ],
   "source": [
    "ids = pd.read_csv('competition_scenario', delimiter=' ')\n",
    "# ids.filename = ids.filename.astype(str)\n",
    "\n",
    "results = pd.read_csv('competition_results', delimiter=' ')\n",
    "# results.filename = results.filename.astype(str)\n",
    "\n",
    "ground_truth_df = pd.merge(ids, results, on='filename')\n",
    "\n",
    "ground_truth_df.head(271)"
   ]
  },
  {
   "cell_type": "code",
   "execution_count": null,
   "metadata": {},
   "outputs": [],
   "source": [
    "pd.DataFrame(parse_mallob(\"final/baseline2/\"))"
   ]
  },
  {
   "cell_type": "code",
   "execution_count": null,
   "metadata": {},
   "outputs": [],
   "source": [
    "ground_truth_result = ground_truth_df.result.rename(\"ground_truth_result\")\n",
    "\n",
    "dynamic_baseline_df = pd.DataFrame(parse_mallob(\"final/baseline/\"))\n",
    "dynamic_baseline_result = dynamic_baseline_df.result.rename(\"dynamic_baseline_result\")\n",
    "\n",
    "dynamic_baseline2_df = pd.DataFrame(parse_mallob(\"final/baseline2/\"))\n",
    "dynamic_baseline2_result = dynamic_baseline2_df.result.rename(\"dynamic_baseline2_result\")\n",
    "\n",
    "benchmark_dynamic_df = pd.DataFrame(parse_mallob(\"benchmark/dynamic/\"))\n",
    "benchmark_dynamic_result = benchmark_dynamic_df.result.rename(\"benchmark_dynamic_result\")\n",
    "\n",
    "# Row indexes should match since they are sorted in parse_mallob and written in correct order in the baseline.txt\n",
    "\n",
    "all_result = pd.concat([ground_truth_result, dynamic_baseline_result, dynamic_baseline2_result, benchmark_dynamic_result], axis=1, join='inner')\n",
    "all_result.groupby(['ground_truth_result', 'dynamic_baseline_result', \"dynamic_baseline2_result\", \"benchmark_dynamic_result\"]).size().reset_index().rename(columns={0:'count'})"
   ]
  },
  {
   "cell_type": "code",
   "execution_count": 35,
   "metadata": {},
   "outputs": [
    {
     "output_type": "execute_result",
     "data": {
      "text/plain": [
       "        gt    bench  count\n",
       "0      SAT      SAT    126\n",
       "1      SAT  UNKNOWN     58\n",
       "2  UNKNOWN      SAT      1\n",
       "3  UNKNOWN  UNKNOWN     72\n",
       "4    UNSAT  UNKNOWN     61\n",
       "5    UNSAT    UNSAT     82"
      ],
      "text/html": "<div>\n<style scoped>\n    .dataframe tbody tr th:only-of-type {\n        vertical-align: middle;\n    }\n\n    .dataframe tbody tr th {\n        vertical-align: top;\n    }\n\n    .dataframe thead th {\n        text-align: right;\n    }\n</style>\n<table border=\"1\" class=\"dataframe\">\n  <thead>\n    <tr style=\"text-align: right;\">\n      <th></th>\n      <th>gt</th>\n      <th>bench</th>\n      <th>count</th>\n    </tr>\n  </thead>\n  <tbody>\n    <tr>\n      <th>0</th>\n      <td>SAT</td>\n      <td>SAT</td>\n      <td>126</td>\n    </tr>\n    <tr>\n      <th>1</th>\n      <td>SAT</td>\n      <td>UNKNOWN</td>\n      <td>58</td>\n    </tr>\n    <tr>\n      <th>2</th>\n      <td>UNKNOWN</td>\n      <td>SAT</td>\n      <td>1</td>\n    </tr>\n    <tr>\n      <th>3</th>\n      <td>UNKNOWN</td>\n      <td>UNKNOWN</td>\n      <td>72</td>\n    </tr>\n    <tr>\n      <th>4</th>\n      <td>UNSAT</td>\n      <td>UNKNOWN</td>\n      <td>61</td>\n    </tr>\n    <tr>\n      <th>5</th>\n      <td>UNSAT</td>\n      <td>UNSAT</td>\n      <td>82</td>\n    </tr>\n  </tbody>\n</table>\n</div>"
     },
     "metadata": {},
     "execution_count": 35
    }
   ],
   "source": [
    "gt = ground_truth_df.set_index(\"ID\")[\"result\"].rename(\"gt\").str.upper()\n",
    "bench = benchmark_dynamic_df.set_index(\"identifier\")[\"result\"].rename(\"bench\")\n",
    "\n",
    "result = pd.concat([gt, bench], axis=1, join=\"outer\").fillna(\"UNKNOWN\")\n",
    "\n",
    "result.groupby(['gt', 'bench']).size().reset_index().rename(columns={0:'count'})"
   ]
  },
  {
   "cell_type": "code",
   "execution_count": 20,
   "metadata": {},
   "outputs": [
    {
     "output_type": "execute_result",
     "data": {
      "text/plain": [
       "        gt     test  count\n",
       "0      SAT      SAT     12\n",
       "1      SAT  UNKNOWN    172\n",
       "2  UNKNOWN  UNKNOWN     73\n",
       "3    UNSAT  UNKNOWN    130\n",
       "4    UNSAT    UNSAT     13"
      ],
      "text/html": "<div>\n<style scoped>\n    .dataframe tbody tr th:only-of-type {\n        vertical-align: middle;\n    }\n\n    .dataframe tbody tr th {\n        vertical-align: top;\n    }\n\n    .dataframe thead th {\n        text-align: right;\n    }\n</style>\n<table border=\"1\" class=\"dataframe\">\n  <thead>\n    <tr style=\"text-align: right;\">\n      <th></th>\n      <th>gt</th>\n      <th>test</th>\n      <th>count</th>\n    </tr>\n  </thead>\n  <tbody>\n    <tr>\n      <th>0</th>\n      <td>SAT</td>\n      <td>SAT</td>\n      <td>12</td>\n    </tr>\n    <tr>\n      <th>1</th>\n      <td>SAT</td>\n      <td>UNKNOWN</td>\n      <td>172</td>\n    </tr>\n    <tr>\n      <th>2</th>\n      <td>UNKNOWN</td>\n      <td>UNKNOWN</td>\n      <td>73</td>\n    </tr>\n    <tr>\n      <th>3</th>\n      <td>UNSAT</td>\n      <td>UNKNOWN</td>\n      <td>130</td>\n    </tr>\n    <tr>\n      <th>4</th>\n      <td>UNSAT</td>\n      <td>UNSAT</td>\n      <td>13</td>\n    </tr>\n  </tbody>\n</table>\n</div>"
     },
     "metadata": {},
     "execution_count": 20
    }
   ],
   "source": [
    "ids = pd.read_csv('competition_scenario', delimiter=' ')\n",
    "# ids.filename = ids.filename.astype(str)\n",
    "\n",
    "results = pd.read_csv('competition_results', delimiter=' ')\n",
    "# results.filename = results.filename.astype(str)\n",
    "\n",
    "ground_truth_df = pd.merge(ids, results, on='filename')\n",
    "\n",
    "test_df = pd.DataFrame(parse_mallob(\"benchmark/test/\")) \n",
    "\n",
    "# For test\n",
    "gt = ground_truth_df.set_index(\"ID\")[\"result\"].rename(\"gt\").str.upper()\n",
    "test = test_df.set_index(\"identifier\")[\"result\"].rename(\"test\")\n",
    "\n",
    "result = pd.concat([gt, test], axis=1, join=\"outer\").fillna(\"UNKNOWN\")\n",
    "\n",
    "result.groupby(['gt', 'test']).size().reset_index().rename(columns={0:'count'})"
   ]
  },
  {
   "cell_type": "code",
   "execution_count": 37,
   "metadata": {},
   "outputs": [
    {
     "output_type": "error",
     "ename": "Error",
     "evalue": "AttributeError",
     "traceback": [
      "Error: AttributeError",
      "at b.parseConnectInfo (/home/maxi/.vscode/extensions/ms-toolsai.jupyter-2021.2.576440691/out/client/extension.js:49:484710)",
      "at b.connectToLocal (/home/maxi/.vscode/extensions/ms-toolsai.jupyter-2021.2.576440691/out/client/extension.js:49:485313)",
      "at async b.connect (/home/maxi/.vscode/extensions/ms-toolsai.jupyter-2021.2.576440691/out/client/extension.js:49:483190)",
      "at async b.startDebugSession (/home/maxi/.vscode/extensions/ms-toolsai.jupyter-2021.2.576440691/out/client/extension.js:49:482337)",
      "at async f.submitCode (/home/maxi/.vscode/extensions/ms-toolsai.jupyter-2021.2.576440691/out/client/extension.js:32:596259)",
      "at async f.handleRunByLine (/home/maxi/.vscode/extensions/ms-toolsai.jupyter-2021.2.576440691/out/client/extension.js:9:327121)"
     ]
    }
   ],
   "source": [
    "pd.DataFrame(parse_generators(\"benchmark/dynamic/\"))"
   ]
  }
 ]
}