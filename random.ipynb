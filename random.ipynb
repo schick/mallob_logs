{
 "metadata": {
  "language_info": {
   "codemirror_mode": {
    "name": "ipython",
    "version": 3
   },
   "file_extension": ".py",
   "mimetype": "text/x-python",
   "name": "python",
   "nbconvert_exporter": "python",
   "pygments_lexer": "ipython3",
   "version": "3.8.3"
  },
  "orig_nbformat": 2,
  "kernelspec": {
   "name": "python383jvsc74a57bd03bc4332d97874eb5d59f7ecad210981100dee08cee27dc4d86d23440e6ad5a9e",
   "display_name": "Python 3.8.3 64-bit ('base': conda)"
  }
 },
 "nbformat": 4,
 "nbformat_minor": 2,
 "cells": [
  {
   "cell_type": "code",
   "execution_count": 2,
   "metadata": {},
   "outputs": [],
   "source": [
    "import matplotlib\n",
    "import pandas as pd\n",
    "from matplotlib import pyplot as plt\n",
    "# https://towardsdatascience.com/how-to-create-and-customize-venn-diagrams-in-python-263555527305\n",
    "from matplotlib_venn import venn2, venn2_circles\n",
    "from matplotlib_venn import venn3, venn3_circles\n",
    "\n",
    "import numpy as np\n",
    "\n",
    "from extract.jobs import parse_mallob, get_baseline\n",
    "\n",
    "matplotlib.use(\"pgf\")\n",
    "matplotlib.rcParams.update({\n",
    "    \"pgf.texsystem\": \"pdflatex\",\n",
    "    'font.family': 'serif',\n",
    "    'text.usetex': True,\n",
    "    'pgf.rcfonts': False,\n",
    "})"
   ]
  },
  {
   "cell_type": "code",
   "execution_count": 3,
   "metadata": {},
   "outputs": [],
   "source": [
    "#static_4_1_random_df = pd.DataFrame(parse_mallob(\"benchmark/static_4_1_random\"))\n",
    "static_7_4_random_df = pd.DataFrame(parse_mallob(\"benchmark/static_7_4_random\"))\n",
    "#static_10_64_random_df = pd.DataFrame(parse_mallob(\"benchmark/static_10_64_random\"))\n",
    "\n",
    "static_7_4_notrandom_df = pd.DataFrame(parse_mallob(\"benchmark/static_7_4_notrandom\"))\n"
   ]
  },
  {
   "cell_type": "code",
   "execution_count": 7,
   "metadata": {},
   "outputs": [
    {
     "output_type": "stream",
     "name": "stdout",
     "text": [
      "            solved  solved\nidentifier                \n1            False   False\n2            False   False\n3             True    True\n4            False   False\n5            False   False\n...            ...     ...\n396          False   False\n397           True    True\n398          False   False\n399          False   False\n400          False   False\n\n[399 rows x 2 columns]\n"
     ]
    }
   ],
   "source": [
    "def getHasResult(df):\n",
    "    # https://stackoverflow.com/questions/26886653/pandas-create-new-column-based-on-values-from-other-columns-apply-a-function-o/65442004#65442004\n",
    "\n",
    "    conditions = [\n",
    "        df[\"result\"] == \"SAT\",\n",
    "        df[\"result\"] == \"UNSAT\",\n",
    "        df[\"result\"] == \"UNKNOWN\"\n",
    "    ]\n",
    "\n",
    "    outputs = [True, True, False]\n",
    "\n",
    "    return np.select(conditions, outputs, default=False)\n",
    "\n",
    "result = pd.Series(getHasResult(static_7_4_notrandom_df))\n",
    "\n",
    "def twoIntersection(df1, df2):\n",
    "    df1[\"solved\"] = getHasResult(df1)\n",
    "    df2[\"solved\"] = getHasResult(df2)\n",
    "\n",
    "    df1 = df1.set_index(\"identifier\")[\"solved\"]\n",
    "    df2 = df2.set_index(\"identifier\")[\"solved\"]\n",
    "\n",
    "    print(pd.concat([df1, df2], axis=1, join=\"outer\"))\n",
    "\n",
    "\n",
    "twoIntersection(static_7_4_random_df, static_7_4_notrandom_df)"
   ]
  },
  {
   "cell_type": "code",
   "execution_count": 17,
   "metadata": {},
   "outputs": [
    {
     "output_type": "execute_result",
     "data": {
      "text/plain": [
       "    random notrandom  count\n",
       "0      SAT       SAT     75\n",
       "1      SAT   UNKNOWN     19\n",
       "2  UNKNOWN       SAT      6\n",
       "3  UNKNOWN   UNKNOWN    238\n",
       "4  UNKNOWN     UNSAT      1\n",
       "5    UNSAT   UNKNOWN      9\n",
       "6    UNSAT     UNSAT     51"
      ],
      "text/html": "<div>\n<style scoped>\n    .dataframe tbody tr th:only-of-type {\n        vertical-align: middle;\n    }\n\n    .dataframe tbody tr th {\n        vertical-align: top;\n    }\n\n    .dataframe thead th {\n        text-align: right;\n    }\n</style>\n<table border=\"1\" class=\"dataframe\">\n  <thead>\n    <tr style=\"text-align: right;\">\n      <th></th>\n      <th>random</th>\n      <th>notrandom</th>\n      <th>count</th>\n    </tr>\n  </thead>\n  <tbody>\n    <tr>\n      <th>0</th>\n      <td>SAT</td>\n      <td>SAT</td>\n      <td>75</td>\n    </tr>\n    <tr>\n      <th>1</th>\n      <td>SAT</td>\n      <td>UNKNOWN</td>\n      <td>19</td>\n    </tr>\n    <tr>\n      <th>2</th>\n      <td>UNKNOWN</td>\n      <td>SAT</td>\n      <td>6</td>\n    </tr>\n    <tr>\n      <th>3</th>\n      <td>UNKNOWN</td>\n      <td>UNKNOWN</td>\n      <td>238</td>\n    </tr>\n    <tr>\n      <th>4</th>\n      <td>UNKNOWN</td>\n      <td>UNSAT</td>\n      <td>1</td>\n    </tr>\n    <tr>\n      <th>5</th>\n      <td>UNSAT</td>\n      <td>UNKNOWN</td>\n      <td>9</td>\n    </tr>\n    <tr>\n      <th>6</th>\n      <td>UNSAT</td>\n      <td>UNSAT</td>\n      <td>51</td>\n    </tr>\n  </tbody>\n</table>\n</div>"
     },
     "metadata": {},
     "execution_count": 17
    }
   ],
   "source": [
    "random = static_7_4_random_df.set_index(\"identifier\")[\"result\"].rename(\"random\")\n",
    "notrandom = static_7_4_notrandom_df.set_index(\"identifier\")[\"result\"].rename(\"notrandom\")\n",
    "\n",
    "result = pd.concat([random, notrandom], axis=1, join=\"outer\").fillna(\"UNKNOWN\")\n",
    "\n",
    "result.groupby(['random', 'notrandom']).size().reset_index().rename(columns={0:'count'})"
   ]
  },
  {
   "cell_type": "code",
   "execution_count": 101,
   "metadata": {},
   "outputs": [],
   "source": [
    "fig = plt.figure()\n",
    "\n",
    "# Schnittmenge der gelösten (Löst es die gleichen Instanzen?)\n",
    "venn2(subsets = (19 + 9, 6 + 1, 75 + 51), set_labels = ('random', 'not random'), set_colors=('r', 'g'))\n",
    "\n",
    "fig.set_size_inches(w=3, h=2)\n",
    "fig.savefig(\"random/venn.pgf\")\n",
    "plt.tight_layout()"
   ]
  },
  {
   "cell_type": "code",
   "execution_count": 102,
   "metadata": {},
   "outputs": [],
   "source": [
    "# Vergleiche nicht random mit random\n",
    "fig = plt.figure()\n",
    "fig.subplots_adjust(bottom=0.2, left=0.175)\n",
    "temp_series = static_7_4_random_df[static_7_4_random_df[\"result\"]!=\"UNKNOWN\"].sort_values(\"duration\").reset_index()[\"duration\"]\n",
    "temp_series = pd.Series(dict((v,k) for k,v in temp_series.iteritems()))\n",
    "ax = temp_series.plot(color=\"r\", figsize=(3,2))\n",
    "\n",
    "temp_series = static_7_4_notrandom_df[static_7_4_notrandom_df[\"result\"]!=\"UNKNOWN\"].sort_values(\"duration\").reset_index()[\"duration\"]\n",
    "temp_series = pd.Series(dict((v,k) for k,v in temp_series.iteritems()))\n",
    "temp_series.plot(color=\"g\", ax=ax)\n",
    "\n",
    "ax.set_xlabel(\"run time in s\")\n",
    "ax.set_ylabel(\"\\# solved problems in $\\leq t$ s\")\n",
    "\n",
    "ax.legend([\"random\", \"not random\"])\n",
    "\n",
    "fig.savefig(\"random/time.pgf\")"
   ]
  },
  {
   "cell_type": "code",
   "execution_count": 103,
   "metadata": {},
   "outputs": [],
   "source": [
    "fig = plt.figure()\n",
    "fig.subplots_adjust(bottom=0.2, left=0.175)\n",
    "# Gesendete und returned cubes categorized into solved and not solved\n",
    "ax = static_7_4_random_df.sort_values(\"number_send_cubes\", ascending=False).reset_index()[\"number_send_cubes\"].plot(color=\"r\", figsize=(3,2))\n",
    "static_7_4_notrandom_df.sort_values(\"number_send_cubes\", ascending=False).reset_index()[\"number_send_cubes\"].plot(ax=ax, color=\"g\")\n",
    "\n",
    "ax.set_xlabel(\"problems\")\n",
    "ax.set_ylabel(\"\\# sent cubes per problem\")\n",
    "\n",
    "ax.legend([\"random\", \"not random\"])\n",
    "\n",
    "fig.savefig(\"random/sent.pgf\")"
   ]
  },
  {
   "cell_type": "code",
   "execution_count": 104,
   "metadata": {},
   "outputs": [],
   "source": [
    "fig = plt.figure()\n",
    "fig.subplots_adjust(bottom=0.2, left=0.175)\n",
    "# Gesendete und returned cubes categorized into solved and not solved\n",
    "ax = static_7_4_random_df.sort_values(\"number_returned_cubes\", ascending=False).reset_index()[\"number_returned_cubes\"].plot(color=\"r\", figsize=(3,2))\n",
    "static_7_4_notrandom_df.sort_values(\"number_returned_cubes\", ascending=False).reset_index()[\"number_returned_cubes\"].plot(ax=ax, color=\"g\")\n",
    "\n",
    "ax.set_xlabel(\"problems\")\n",
    "ax.set_ylabel(\"\\# returned sets of $\\phi$ per problem\")\n",
    "\n",
    "ax.legend([\"random\", \"not random\"])\n",
    "\n",
    "fig.savefig(\"random/returned.pgf\")"
   ]
  }
 ]
}