{
 "metadata": {
  "language_info": {
   "codemirror_mode": {
    "name": "ipython",
    "version": 3
   },
   "file_extension": ".py",
   "mimetype": "text/x-python",
   "name": "python",
   "nbconvert_exporter": "python",
   "pygments_lexer": "ipython3",
   "version": "3.8.3"
  },
  "orig_nbformat": 2,
  "kernelspec": {
   "name": "python383jvsc74a57bd03bc4332d97874eb5d59f7ecad210981100dee08cee27dc4d86d23440e6ad5a9e",
   "display_name": "Python 3.8.3 64-bit ('base': conda)"
  }
 },
 "nbformat": 4,
 "nbformat_minor": 2,
 "cells": [
  {
   "cell_type": "code",
   "execution_count": 1,
   "metadata": {},
   "outputs": [],
   "source": [
    "import matplotlib\n",
    "import pandas as pd\n",
    "from matplotlib import pyplot as plt\n",
    "# https://towardsdatascience.com/how-to-create-and-customize-venn-diagrams-in-python-263555527305\n",
    "from matplotlib_venn import venn2, venn2_circles\n",
    "from matplotlib_venn import venn3, venn3_circles\n",
    "\n",
    "import numpy as np\n",
    "\n",
    "from extract.jobs import parse_mallob, get_baseline\n",
    "from extract.threads import parse_threads\n",
    "from extract.threads_old import parse_threads_old\n",
    "\n",
    "matplotlib.use(\"pgf\")\n",
    "matplotlib.rcParams.update({\n",
    "    \"pgf.texsystem\": \"pdflatex\",\n",
    "    'font.family': 'serif',\n",
    "    'text.usetex': True,\n",
    "    'pgf.rcfonts': False,\n",
    "})"
   ]
  },
  {
   "cell_type": "code",
   "execution_count": 2,
   "metadata": {},
   "outputs": [],
   "source": [
    "plt.close(\"all\")"
   ]
  },
  {
   "cell_type": "code",
   "execution_count": 3,
   "metadata": {},
   "outputs": [],
   "source": [
    "dynamic_2_pair = parse_threads_old(\"benchmark/dynamic_2/\")\n",
    "dynamic_4_pair = parse_threads(\"benchmark/dynamic_4/\")\n",
    "dynamic_8_pair = parse_threads_old(\"benchmark/dynamic_8/\")"
   ]
  },
  {
   "cell_type": "code",
   "execution_count": 19,
   "metadata": {},
   "outputs": [],
   "source": [
    "# Wartezeiten\n",
    "# Prozentuale Zeit wie lange solver threads eines Jobs warten mussten im Vergleich zu ihrer gesamtzeit\n",
    "# Entweder werden cubes viel zu schnell gelöst oder brauchen ewig zum erzeugt werden\n",
    "fig = plt.figure()\n",
    "fig.subplots_adjust(bottom=0.2, left=0.175)\n",
    "\n",
    "summe = pd.DataFrame(dynamic_2_pair[1]).groupby('job').sum()\n",
    "proz = summe[\"wait_time\"] / summe[\"run_time\"] * 100\n",
    "ax = proz.fillna(0).sort_values().reset_index()[0].plot(color=\"r\", figsize=(3,2))\n",
    "\n",
    "summe = pd.DataFrame(dynamic_4_pair[1]).groupby('job').sum()\n",
    "proz = summe[\"wait_time\"] / summe[\"run_time\"] * 100\n",
    "ax = proz.fillna(0).sort_values().reset_index()[0].plot(color=\"g\", ax=ax)\n",
    "\n",
    "summe = pd.DataFrame(dynamic_8_pair[1]).groupby('job').sum()\n",
    "proz = summe[\"wait_time\"] / summe[\"run_time\"] * 100\n",
    "ax = proz.fillna(0).sort_values().reset_index()[0].plot(color=\"b\", ax=ax)\n",
    "\n",
    "ax.set_yticks([0,50,100])\n",
    "\n",
    "ax.set_xlabel(\"problems\")\n",
    "ax.set_ylabel(\"time spent waiting in %\")\n",
    "\n",
    "ax.legend(['$J=2$', '$J=4$', '$J=8$'])\n",
    "\n",
    "fig.savefig(\"dynamic_plots/wait.pgf\")"
   ]
  },
  {
   "cell_type": "code",
   "execution_count": 18,
   "metadata": {},
   "outputs": [],
   "source": [
    "# Aktivzeit der Generatoren Threads\n",
    "fig = plt.figure()\n",
    "fig.subplots_adjust(bottom=0.2, left=0.175)\n",
    "\n",
    "summe = pd.DataFrame(dynamic_2_pair[0]).groupby('job').sum()\n",
    "proz = (summe[\"run_time\"] - summe[\"idle_time\"] - summe[\"wait_time\"]) / summe[\"run_time\"] * 100\n",
    "ax = proz.fillna(0).sort_values().reset_index()[0].plot(color=\"r\", figsize=(3,2))\n",
    "\n",
    "summe = pd.DataFrame(dynamic_4_pair[0]).groupby('job').sum()\n",
    "proz = (summe[\"run_time\"] - summe[\"idle_time\"] - summe[\"wait_time\"]) / summe[\"run_time\"] * 100\n",
    "ax = proz.fillna(0).sort_values().reset_index()[0].plot(color=\"g\", ax=ax)\n",
    "\n",
    "summe = pd.DataFrame(dynamic_8_pair[0]).groupby('job').sum()\n",
    "proz = (summe[\"run_time\"] - summe[\"idle_time\"] - summe[\"wait_time\"]) / summe[\"run_time\"] * 100\n",
    "ax = proz.fillna(0).sort_values().reset_index()[0].plot(color=\"b\", ax=ax)\n",
    "\n",
    "ax.set_yticks([0,50,100])\n",
    "\n",
    "ax.set_xlabel(\"problems\")\n",
    "ax.set_ylabel(\"time spent generating in %\")\n",
    "\n",
    "ax.legend(['$J=2$', '$J=4$', '$J=8$'])\n",
    "\n",
    "fig.savefig(\"dynamic_plots/generate.pgf\")"
   ]
  },
  {
   "cell_type": "code",
   "execution_count": 7,
   "metadata": {},
   "outputs": [],
   "source": [
    "dynamic_2_results_df = pd.DataFrame(parse_mallob(\"benchmark/dynamic_2\"))\n",
    "dynamic_4_results_df = pd.DataFrame(parse_mallob(\"benchmark/dynamic_4\"))\n",
    "dynamic_8_results_df = pd.DataFrame(parse_mallob(\"benchmark/dynamic_8\"))"
   ]
  },
  {
   "cell_type": "code",
   "execution_count": 11,
   "metadata": {},
   "outputs": [
    {
     "output_type": "execute_result",
     "data": {
      "text/plain": [
       "        two     four    eight  count\n",
       "0       SAT      SAT      SAT    109\n",
       "1       SAT      SAT  UNKNOWN     12\n",
       "2       SAT  UNKNOWN      SAT      3\n",
       "3       SAT  UNKNOWN  UNKNOWN      5\n",
       "4   UNKNOWN      SAT      SAT      2\n",
       "5   UNKNOWN      SAT  UNKNOWN      6\n",
       "6   UNKNOWN  UNKNOWN      SAT      2\n",
       "7   UNKNOWN  UNKNOWN  UNKNOWN    175\n",
       "8   UNKNOWN  UNKNOWN    UNSAT      1\n",
       "9   UNKNOWN    UNSAT    UNSAT      2\n",
       "10    UNSAT  UNKNOWN  UNKNOWN      3\n",
       "11    UNSAT    UNSAT  UNKNOWN      4\n",
       "12    UNSAT    UNSAT    UNSAT     75"
      ],
      "text/html": "<div>\n<style scoped>\n    .dataframe tbody tr th:only-of-type {\n        vertical-align: middle;\n    }\n\n    .dataframe tbody tr th {\n        vertical-align: top;\n    }\n\n    .dataframe thead th {\n        text-align: right;\n    }\n</style>\n<table border=\"1\" class=\"dataframe\">\n  <thead>\n    <tr style=\"text-align: right;\">\n      <th></th>\n      <th>two</th>\n      <th>four</th>\n      <th>eight</th>\n      <th>count</th>\n    </tr>\n  </thead>\n  <tbody>\n    <tr>\n      <th>0</th>\n      <td>SAT</td>\n      <td>SAT</td>\n      <td>SAT</td>\n      <td>109</td>\n    </tr>\n    <tr>\n      <th>1</th>\n      <td>SAT</td>\n      <td>SAT</td>\n      <td>UNKNOWN</td>\n      <td>12</td>\n    </tr>\n    <tr>\n      <th>2</th>\n      <td>SAT</td>\n      <td>UNKNOWN</td>\n      <td>SAT</td>\n      <td>3</td>\n    </tr>\n    <tr>\n      <th>3</th>\n      <td>SAT</td>\n      <td>UNKNOWN</td>\n      <td>UNKNOWN</td>\n      <td>5</td>\n    </tr>\n    <tr>\n      <th>4</th>\n      <td>UNKNOWN</td>\n      <td>SAT</td>\n      <td>SAT</td>\n      <td>2</td>\n    </tr>\n    <tr>\n      <th>5</th>\n      <td>UNKNOWN</td>\n      <td>SAT</td>\n      <td>UNKNOWN</td>\n      <td>6</td>\n    </tr>\n    <tr>\n      <th>6</th>\n      <td>UNKNOWN</td>\n      <td>UNKNOWN</td>\n      <td>SAT</td>\n      <td>2</td>\n    </tr>\n    <tr>\n      <th>7</th>\n      <td>UNKNOWN</td>\n      <td>UNKNOWN</td>\n      <td>UNKNOWN</td>\n      <td>175</td>\n    </tr>\n    <tr>\n      <th>8</th>\n      <td>UNKNOWN</td>\n      <td>UNKNOWN</td>\n      <td>UNSAT</td>\n      <td>1</td>\n    </tr>\n    <tr>\n      <th>9</th>\n      <td>UNKNOWN</td>\n      <td>UNSAT</td>\n      <td>UNSAT</td>\n      <td>2</td>\n    </tr>\n    <tr>\n      <th>10</th>\n      <td>UNSAT</td>\n      <td>UNKNOWN</td>\n      <td>UNKNOWN</td>\n      <td>3</td>\n    </tr>\n    <tr>\n      <th>11</th>\n      <td>UNSAT</td>\n      <td>UNSAT</td>\n      <td>UNKNOWN</td>\n      <td>4</td>\n    </tr>\n    <tr>\n      <th>12</th>\n      <td>UNSAT</td>\n      <td>UNSAT</td>\n      <td>UNSAT</td>\n      <td>75</td>\n    </tr>\n  </tbody>\n</table>\n</div>"
     },
     "metadata": {},
     "execution_count": 11
    }
   ],
   "source": [
    "two = dynamic_2_results_df.set_index(\"identifier\")[\"result\"].rename(\"two\")\n",
    "four = dynamic_4_results_df.set_index(\"identifier\")[\"result\"].rename(\"four\")\n",
    "eight = dynamic_8_results_df.set_index(\"identifier\")[\"result\"].rename(\"eight\")\n",
    "\n",
    "result = pd.concat([two, four, eight], axis=1, join=\"outer\").fillna(\"UNKNOWN\")\n",
    "\n",
    "result.groupby(['two', 'four', 'eight']).size().reset_index().rename(columns={0:'count'})"
   ]
  },
  {
   "cell_type": "code",
   "execution_count": 16,
   "metadata": {},
   "outputs": [],
   "source": [
    "fig = plt.figure()\n",
    "\n",
    "# Schnittmenge der gelösten (Löst es die gleichen Instanzen?)\n",
    "# default colors anschauen und dann die passenden übernehmen\n",
    "venn3(subsets = (5 + 3, 6, 12 + 4, 2 + 1, 3, 2 + 2, 109 + 75), set_labels = ('$J=2$', '$J=4$', '$J=8$'), set_colors=('r', 'g', 'b'))\n",
    "\n",
    "fig.set_size_inches(w=3, h=2)\n",
    "fig.savefig(\"dynamic_plots/venn.pgf\")"
   ]
  },
  {
   "cell_type": "code",
   "execution_count": 17,
   "metadata": {},
   "outputs": [],
   "source": [
    "# Plot solved over time\n",
    "fig = plt.figure()\n",
    "fig.subplots_adjust(bottom=0.2, left=0.175)\n",
    "\n",
    "temp_series = dynamic_2_results_df[dynamic_2_results_df[\"result\"]!=\"UNKNOWN\"].sort_values(\"duration\").reset_index()[\"duration\"]\n",
    "temp_series = pd.Series(dict((v,k) for k,v in temp_series.iteritems()))\n",
    "ax = temp_series.plot(color=\"r\", figsize=(3,2))\n",
    "\n",
    "temp_series = dynamic_4_results_df[dynamic_4_results_df[\"result\"]!=\"UNKNOWN\"].sort_values(\"duration\").reset_index()[\"duration\"]\n",
    "temp_series = pd.Series(dict((v,k) for k,v in temp_series.iteritems()))\n",
    "temp_series.plot(color=\"g\", ax=ax)\n",
    "\n",
    "temp_series = dynamic_8_results_df[dynamic_8_results_df[\"result\"]!=\"UNKNOWN\"].sort_values(\"duration\").reset_index()[\"duration\"]\n",
    "temp_series = pd.Series(dict((v,k) for k,v in temp_series.iteritems()))\n",
    "temp_series.plot(color=\"b\", ax=ax)\n",
    "\n",
    "ax.set_xlabel(\"run time in s\")\n",
    "ax.set_ylabel(\"\\# solved problems in $\\leq t$ s\")\n",
    "\n",
    "ax.legend(['$J=2$', '$J=4$', '$J=8$'])\n",
    "\n",
    "fig.savefig(\"dynamic_plots/time.pgf\")"
   ]
  },
  {
   "cell_type": "code",
   "execution_count": 13,
   "metadata": {},
   "outputs": [
    {
     "output_type": "stream",
     "name": "stdout",
     "text": [
      "lbc = 2\n(-0.001, 0.5]        142\n(0.5, 10000000.0]     69\nName: size_of_added_buffer, dtype: int64\nlbc = 4\n(-0.001, 0.5]        157\n(0.5, 10000000.0]     53\nName: size_of_added_buffer, dtype: int64\nlbc = 8\n(-0.001, 0.5]        157\n(0.5, 10000000.0]     37\nName: size_of_added_buffer, dtype: int64\n"
     ]
    }
   ],
   "source": [
    "print(\"lbc = 2\")\n",
    "blub = dynamic_2_results_df[dynamic_2_results_df[\"result\"]!=\"UNKNOWN\"][\"size_of_added_buffer\"]\n",
    "print(pd.cut(blub, bins=[0, 0.5, 10000000], include_lowest=True).value_counts())\n",
    "\n",
    "print(\"lbc = 4\")\n",
    "blub = dynamic_4_results_df[dynamic_4_results_df[\"result\"]!=\"UNKNOWN\"][\"size_of_added_buffer\"]\n",
    "print(pd.cut(blub, bins=[0, 0.5, 10000000], include_lowest=True).value_counts())\n",
    "\n",
    "print(\"lbc = 8\")\n",
    "blub = dynamic_8_results_df[dynamic_8_results_df[\"result\"]!=\"UNKNOWN\"][\"size_of_added_buffer\"]\n",
    "print(pd.cut(blub, bins=[0, 0.5, 10000000], include_lowest=True).value_counts())"
   ]
  },
  {
   "cell_type": "code",
   "execution_count": 10,
   "metadata": {},
   "outputs": [
    {
     "output_type": "stream",
     "name": "stdout",
     "text": [
      "lbc = 2\n(0.5, 10000000.0]    129\n(-0.001, 0.5]         82\nName: size_of_used_cube, dtype: int64\nlbc = 4\n(0.5, 10000000.0]    123\n(-0.001, 0.5]         87\nName: size_of_used_cube, dtype: int64\nlbc = 8\n(-0.001, 0.5]        98\n(0.5, 10000000.0]    96\nName: size_of_used_cube, dtype: int64\n"
     ]
    }
   ],
   "source": [
    "print(\"lbc = 2\")\n",
    "blub = dynamic_2_results_df[dynamic_2_results_df[\"result\"]!=\"UNKNOWN\"][\"size_of_used_cube\"]\n",
    "print(pd.cut(blub, bins=[0, 0.5, 10000000], include_lowest=True).value_counts())\n",
    "\n",
    "print(\"lbc = 4\")\n",
    "blub = dynamic_4_results_df[dynamic_4_results_df[\"result\"]!=\"UNKNOWN\"][\"size_of_used_cube\"]\n",
    "print(pd.cut(blub, bins=[0, 0.5, 10000000], include_lowest=True).value_counts())\n",
    "\n",
    "print(\"lbc = 8\")\n",
    "blub = dynamic_8_results_df[dynamic_8_results_df[\"result\"]!=\"UNKNOWN\"][\"size_of_used_cube\"]\n",
    "print(pd.cut(blub, bins=[0, 0.5, 10000000], include_lowest=True).value_counts())"
   ]
  }
 ]
}