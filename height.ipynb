{
 "metadata": {
  "language_info": {
   "codemirror_mode": {
    "name": "ipython",
    "version": 3
   },
   "file_extension": ".py",
   "mimetype": "text/x-python",
   "name": "python",
   "nbconvert_exporter": "python",
   "pygments_lexer": "ipython3",
   "version": "3.8.3"
  },
  "orig_nbformat": 2,
  "kernelspec": {
   "name": "python383jvsc74a57bd03bc4332d97874eb5d59f7ecad210981100dee08cee27dc4d86d23440e6ad5a9e",
   "display_name": "Python 3.8.3 64-bit ('base': conda)"
  }
 },
 "nbformat": 4,
 "nbformat_minor": 2,
 "cells": [
  {
   "cell_type": "code",
   "execution_count": 1,
   "metadata": {},
   "outputs": [],
   "source": [
    "import matplotlib\n",
    "import pandas as pd\n",
    "from matplotlib import pyplot as plt\n",
    "# https://towardsdatascience.com/how-to-create-and-customize-venn-diagrams-in-python-263555527305\n",
    "from matplotlib_venn import venn2, venn2_circles\n",
    "from matplotlib_venn import venn3, venn3_circles\n",
    "\n",
    "import numpy as np\n",
    "\n",
    "from extract.jobs import parse_mallob, get_baseline\n",
    "\n",
    "matplotlib.use(\"pgf\")\n",
    "matplotlib.rcParams.update({\n",
    "    \"pgf.texsystem\": \"pdflatex\",\n",
    "    'font.family': 'serif',\n",
    "    'text.usetex': True,\n",
    "    'pgf.rcfonts': False,\n",
    "})"
   ]
  },
  {
   "cell_type": "code",
   "execution_count": 2,
   "metadata": {},
   "outputs": [],
   "source": [
    "static_4_1_random_df = pd.DataFrame(parse_mallob(\"benchmark/static_4_1_random\"))\n",
    "static_7_4_random_df = pd.DataFrame(parse_mallob(\"benchmark/static_7_4_random\"))\n",
    "static_10_64_random_df = pd.DataFrame(parse_mallob(\"benchmark/static_10_64_random\"))"
   ]
  },
  {
   "cell_type": "code",
   "execution_count": 4,
   "metadata": {},
   "outputs": [
    {
     "output_type": "execute_result",
     "data": {
      "text/plain": [
       "       four    seven      ten  count\n",
       "0       SAT      SAT      SAT     51\n",
       "1       SAT      SAT  UNKNOWN     34\n",
       "2       SAT  UNKNOWN  UNKNOWN     18\n",
       "3   UNKNOWN      SAT      SAT      3\n",
       "4   UNKNOWN      SAT  UNKNOWN      6\n",
       "5   UNKNOWN  UNKNOWN      SAT      3\n",
       "6   UNKNOWN  UNKNOWN  UNKNOWN    212\n",
       "7   UNKNOWN  UNKNOWN    UNSAT      2\n",
       "8   UNKNOWN    UNSAT  UNKNOWN      5\n",
       "9   UNKNOWN    UNSAT    UNSAT      1\n",
       "10    UNSAT  UNKNOWN  UNKNOWN     10\n",
       "11    UNSAT    UNSAT  UNKNOWN     14\n",
       "12    UNSAT    UNSAT    UNSAT     40"
      ],
      "text/html": "<div>\n<style scoped>\n    .dataframe tbody tr th:only-of-type {\n        vertical-align: middle;\n    }\n\n    .dataframe tbody tr th {\n        vertical-align: top;\n    }\n\n    .dataframe thead th {\n        text-align: right;\n    }\n</style>\n<table border=\"1\" class=\"dataframe\">\n  <thead>\n    <tr style=\"text-align: right;\">\n      <th></th>\n      <th>four</th>\n      <th>seven</th>\n      <th>ten</th>\n      <th>count</th>\n    </tr>\n  </thead>\n  <tbody>\n    <tr>\n      <th>0</th>\n      <td>SAT</td>\n      <td>SAT</td>\n      <td>SAT</td>\n      <td>51</td>\n    </tr>\n    <tr>\n      <th>1</th>\n      <td>SAT</td>\n      <td>SAT</td>\n      <td>UNKNOWN</td>\n      <td>34</td>\n    </tr>\n    <tr>\n      <th>2</th>\n      <td>SAT</td>\n      <td>UNKNOWN</td>\n      <td>UNKNOWN</td>\n      <td>18</td>\n    </tr>\n    <tr>\n      <th>3</th>\n      <td>UNKNOWN</td>\n      <td>SAT</td>\n      <td>SAT</td>\n      <td>3</td>\n    </tr>\n    <tr>\n      <th>4</th>\n      <td>UNKNOWN</td>\n      <td>SAT</td>\n      <td>UNKNOWN</td>\n      <td>6</td>\n    </tr>\n    <tr>\n      <th>5</th>\n      <td>UNKNOWN</td>\n      <td>UNKNOWN</td>\n      <td>SAT</td>\n      <td>3</td>\n    </tr>\n    <tr>\n      <th>6</th>\n      <td>UNKNOWN</td>\n      <td>UNKNOWN</td>\n      <td>UNKNOWN</td>\n      <td>212</td>\n    </tr>\n    <tr>\n      <th>7</th>\n      <td>UNKNOWN</td>\n      <td>UNKNOWN</td>\n      <td>UNSAT</td>\n      <td>2</td>\n    </tr>\n    <tr>\n      <th>8</th>\n      <td>UNKNOWN</td>\n      <td>UNSAT</td>\n      <td>UNKNOWN</td>\n      <td>5</td>\n    </tr>\n    <tr>\n      <th>9</th>\n      <td>UNKNOWN</td>\n      <td>UNSAT</td>\n      <td>UNSAT</td>\n      <td>1</td>\n    </tr>\n    <tr>\n      <th>10</th>\n      <td>UNSAT</td>\n      <td>UNKNOWN</td>\n      <td>UNKNOWN</td>\n      <td>10</td>\n    </tr>\n    <tr>\n      <th>11</th>\n      <td>UNSAT</td>\n      <td>UNSAT</td>\n      <td>UNKNOWN</td>\n      <td>14</td>\n    </tr>\n    <tr>\n      <th>12</th>\n      <td>UNSAT</td>\n      <td>UNSAT</td>\n      <td>UNSAT</td>\n      <td>40</td>\n    </tr>\n  </tbody>\n</table>\n</div>"
     },
     "metadata": {},
     "execution_count": 4
    }
   ],
   "source": [
    "four = static_4_1_random_df.set_index(\"identifier\")[\"result\"].rename(\"four\")\n",
    "seven = static_7_4_random_df.set_index(\"identifier\")[\"result\"].rename(\"seven\")\n",
    "ten = static_10_64_random_df.set_index(\"identifier\")[\"result\"].rename(\"ten\")\n",
    "\n",
    "result = pd.concat([four, seven, ten], axis=1, join=\"outer\").fillna(\"UNKNOWN\")\n",
    "\n",
    "result.groupby(['four', 'seven', 'ten']).size().reset_index().rename(columns={0:'count'})"
   ]
  },
  {
   "cell_type": "code",
   "execution_count": 63,
   "metadata": {},
   "outputs": [],
   "source": [
    "fig = plt.figure()\n",
    "\n",
    "# Schnittmenge der gelösten (Löst es die gleichen Instanzen?)\n",
    "# default colors anschauen und dann die passenden übernehmen\n",
    "venn3(subsets = (18 + 10, 6 + 5, 34 + 14, 3 + 2, 0, 3 + 1, 51 + 40), set_labels = ('$h=4$', '$h=7$', '$h=10$'), set_colors=('r', 'g', 'b'))\n",
    "\n",
    "fig.set_size_inches(w=3, h=2)\n",
    "fig.savefig(\"height/venn.pgf\")"
   ]
  },
  {
   "cell_type": "code",
   "execution_count": 64,
   "metadata": {},
   "outputs": [],
   "source": [
    "# Vergleiche nicht random mit random\n",
    "fig = plt.figure()\n",
    "fig.subplots_adjust(bottom=0.2, left=0.175)\n",
    "temp_series = static_4_1_random_df[static_4_1_random_df[\"result\"]!=\"UNKNOWN\"].sort_values(\"duration\").reset_index()[\"duration\"]\n",
    "temp_series = pd.Series(dict((v,k) for k,v in temp_series.iteritems()))\n",
    "ax = temp_series.plot(color=\"r\", figsize=(3,2))\n",
    "\n",
    "temp_series = static_7_4_random_df[static_7_4_random_df[\"result\"]!=\"UNKNOWN\"].sort_values(\"duration\").reset_index()[\"duration\"]\n",
    "temp_series = pd.Series(dict((v,k) for k,v in temp_series.iteritems()))\n",
    "temp_series.plot(color=\"g\", ax=ax)\n",
    "\n",
    "temp_series = static_10_64_random_df[static_10_64_random_df[\"result\"]!=\"UNKNOWN\"].sort_values(\"duration\").reset_index()[\"duration\"]\n",
    "temp_series = pd.Series(dict((v,k) for k,v in temp_series.iteritems()))\n",
    "temp_series.plot(color=\"b\", ax=ax)\n",
    "\n",
    "ax.set_xlabel(\"run time in s\")\n",
    "ax.set_ylabel(\"\\# solved problems in $\\leq t$ s\")\n",
    "\n",
    "ax.legend(['$h=4$', '$h=7$', '$h=10$'])\n",
    "\n",
    "fig.savefig(\"height/time.pgf\")"
   ]
  },
  {
   "cell_type": "code",
   "execution_count": 65,
   "metadata": {},
   "outputs": [],
   "source": [
    "fig = plt.figure()\n",
    "fig.subplots_adjust(bottom=0.2, left=0.175)\n",
    "temp_series = static_4_1_random_df[static_4_1_random_df[\"generate_duration\"]>0].sort_values(\"generate_duration\").reset_index()[\"generate_duration\"]\n",
    "temp_series = pd.Series(dict((v,k) for k,v in temp_series.iteritems()))\n",
    "ax = temp_series.plot(color=\"r\", figsize=(3,2))\n",
    "\n",
    "temp_series = static_7_4_random_df[static_7_4_random_df[\"generate_duration\"]>0].sort_values(\"generate_duration\").reset_index()[\"generate_duration\"]\n",
    "temp_series = pd.Series(dict((v,k) for k,v in temp_series.iteritems()))\n",
    "temp_series.plot(color=\"g\", ax=ax)\n",
    "\n",
    "temp_series = static_10_64_random_df[static_10_64_random_df[\"generate_duration\"]>0].sort_values(\"generate_duration\").reset_index()[\"generate_duration\"]\n",
    "temp_series = pd.Series(dict((v,k) for k,v in temp_series.iteritems()))\n",
    "temp_series.plot(color=\"b\", ax=ax)\n",
    "\n",
    "ax.set_xlabel(\"run time in s\")\n",
    "ax.set_ylabel(\"generated cubes in $\\leq t$ s\")\n",
    "\n",
    "ax.legend(['$h=4$', '$h=7$', '$h=10$'])\n",
    "\n",
    "fig.savefig(\"height/generated.pgf\")\n",
    "\n",
    "# Passende caption hier wichtig\n",
    "# Cubes generated for number of problems in the given time."
   ]
  },
  {
   "cell_type": "code",
   "execution_count": 66,
   "metadata": {},
   "outputs": [
    {
     "output_type": "execute_result",
     "data": {
      "text/plain": [
       "(28, 12)"
      ]
     },
     "metadata": {},
     "execution_count": 66
    }
   ],
   "source": [
    "static_4_1_random_df[static_4_1_random_df[\"generate_duration\"]<0].shape"
   ]
  },
  {
   "cell_type": "code",
   "execution_count": 67,
   "metadata": {},
   "outputs": [
    {
     "output_type": "execute_result",
     "data": {
      "text/plain": [
       "UNKNOWN    232\n",
       "SAT        103\n",
       "UNSAT       64\n",
       "Name: result, dtype: int64"
      ]
     },
     "metadata": {},
     "execution_count": 67
    }
   ],
   "source": [
    "static_4_1_random_df['result'].value_counts()"
   ]
  },
  {
   "cell_type": "code",
   "execution_count": 68,
   "metadata": {},
   "outputs": [
    {
     "output_type": "execute_result",
     "data": {
      "text/plain": [
       "(80, 12)"
      ]
     },
     "metadata": {},
     "execution_count": 68
    }
   ],
   "source": [
    "static_7_4_random_df[static_7_4_random_df[\"generate_duration\"]<0].shape"
   ]
  },
  {
   "cell_type": "code",
   "execution_count": 69,
   "metadata": {},
   "outputs": [
    {
     "output_type": "execute_result",
     "data": {
      "text/plain": [
       "UNKNOWN    245\n",
       "SAT         94\n",
       "UNSAT       60\n",
       "Name: result, dtype: int64"
      ]
     },
     "metadata": {},
     "execution_count": 69
    }
   ],
   "source": [
    "static_7_4_random_df['result'].value_counts()"
   ]
  },
  {
   "cell_type": "code",
   "execution_count": 70,
   "metadata": {},
   "outputs": [
    {
     "output_type": "execute_result",
     "data": {
      "text/plain": [
       "(165, 12)"
      ]
     },
     "metadata": {},
     "execution_count": 70
    }
   ],
   "source": [
    "static_10_64_random_df[static_10_64_random_df[\"generate_duration\"]<0].shape"
   ]
  },
  {
   "cell_type": "code",
   "execution_count": 71,
   "metadata": {},
   "outputs": [
    {
     "output_type": "execute_result",
     "data": {
      "text/plain": [
       "UNKNOWN    299\n",
       "SAT         57\n",
       "UNSAT       43\n",
       "Name: result, dtype: int64"
      ]
     },
     "metadata": {},
     "execution_count": 71
    }
   ],
   "source": [
    "static_10_64_random_df['result'].value_counts()"
   ]
  }
 ]
}