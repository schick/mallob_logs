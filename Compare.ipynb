{
 "metadata": {
  "language_info": {
   "codemirror_mode": {
    "name": "ipython",
    "version": 3
   },
   "file_extension": ".py",
   "mimetype": "text/x-python",
   "name": "python",
   "nbconvert_exporter": "python",
   "pygments_lexer": "ipython3",
   "version": "3.8.3-final"
  },
  "orig_nbformat": 2,
  "kernelspec": {
   "name": "python3",
   "display_name": "Python 3"
  }
 },
 "nbformat": 4,
 "nbformat_minor": 2,
 "cells": [
  {
   "cell_type": "code",
   "execution_count": 1,
   "metadata": {},
   "outputs": [],
   "source": [
    "import matplotlib\n",
    "import pandas as pd\n",
    "from matplotlib import pyplot as plt\n",
    "from glob import glob\n",
    "\n",
    "from extract.jobs import parse_mallob, get_baseline"
   ]
  },
  {
   "cell_type": "code",
   "execution_count": 3,
   "metadata": {},
   "outputs": [
    {
     "output_type": "execute_result",
     "data": {
      "text/plain": [
       "  identifier  start_time  end_time  duration result start_generate_cubes  \\\n",
       "0          1       0.262     1.227     0.965  UNSAT              0.28143   \n",
       "1          2       1.227    41.312    40.085  UNSAT              1.25364   \n",
       "2          3      41.313    78.362    37.049  UNSAT              41.3445   \n",
       "3          4      78.363   116.676    38.313  UNSAT              78.3843   \n",
       "\n",
       "  end_generate_cubes root_node  number_send_cubes  number_returned_cubes  \n",
       "0           0.957025         1                 30                     18  \n",
       "1            21.6993         0                 32                      7  \n",
       "2            60.8856         0                 32                      9  \n",
       "3            97.8568         0                 32                      7  "
      ],
      "text/html": "<div>\n<style scoped>\n    .dataframe tbody tr th:only-of-type {\n        vertical-align: middle;\n    }\n\n    .dataframe tbody tr th {\n        vertical-align: top;\n    }\n\n    .dataframe thead th {\n        text-align: right;\n    }\n</style>\n<table border=\"1\" class=\"dataframe\">\n  <thead>\n    <tr style=\"text-align: right;\">\n      <th></th>\n      <th>identifier</th>\n      <th>start_time</th>\n      <th>end_time</th>\n      <th>duration</th>\n      <th>result</th>\n      <th>start_generate_cubes</th>\n      <th>end_generate_cubes</th>\n      <th>root_node</th>\n      <th>number_send_cubes</th>\n      <th>number_returned_cubes</th>\n    </tr>\n  </thead>\n  <tbody>\n    <tr>\n      <th>0</th>\n      <td>1</td>\n      <td>0.262</td>\n      <td>1.227</td>\n      <td>0.965</td>\n      <td>UNSAT</td>\n      <td>0.28143</td>\n      <td>0.957025</td>\n      <td>1</td>\n      <td>30</td>\n      <td>18</td>\n    </tr>\n    <tr>\n      <th>1</th>\n      <td>2</td>\n      <td>1.227</td>\n      <td>41.312</td>\n      <td>40.085</td>\n      <td>UNSAT</td>\n      <td>1.25364</td>\n      <td>21.6993</td>\n      <td>0</td>\n      <td>32</td>\n      <td>7</td>\n    </tr>\n    <tr>\n      <th>2</th>\n      <td>3</td>\n      <td>41.313</td>\n      <td>78.362</td>\n      <td>37.049</td>\n      <td>UNSAT</td>\n      <td>41.3445</td>\n      <td>60.8856</td>\n      <td>0</td>\n      <td>32</td>\n      <td>9</td>\n    </tr>\n    <tr>\n      <th>3</th>\n      <td>4</td>\n      <td>78.363</td>\n      <td>116.676</td>\n      <td>38.313</td>\n      <td>UNSAT</td>\n      <td>78.3843</td>\n      <td>97.8568</td>\n      <td>0</td>\n      <td>32</td>\n      <td>7</td>\n    </tr>\n  </tbody>\n</table>\n</div>"
     },
     "metadata": {},
     "execution_count": 3
    }
   ],
   "source": [
    "# Parse old log\n",
    "pd.DataFrame(parse_mallob(\"old/\"))"
   ]
  },
  {
   "cell_type": "code",
   "execution_count": 4,
   "metadata": {},
   "outputs": [
    {
     "output_type": "execute_result",
     "data": {
      "text/plain": [
       "  identifier  start_time  end_time  duration result start_generate_cubes  \\\n",
       "0          1       0.283     1.583     1.300  UNSAT             0.307823   \n",
       "1          2       1.583    45.201    43.618  UNSAT              1.62128   \n",
       "2          3      45.202    92.943    47.741  UNSAT              45.2644   \n",
       "3          4      92.943   141.960    49.017  UNSAT              93.0206   \n",
       "\n",
       "  end_generate_cubes root_node  number_send_cubes  number_returned_cubes  \n",
       "0            1.29111         1                 30                     17  \n",
       "1            22.9283         0                 32                      7  \n",
       "2             67.365         0                 32                      7  \n",
       "3            116.685         0                 40                     10  "
      ],
      "text/html": "<div>\n<style scoped>\n    .dataframe tbody tr th:only-of-type {\n        vertical-align: middle;\n    }\n\n    .dataframe tbody tr th {\n        vertical-align: top;\n    }\n\n    .dataframe thead th {\n        text-align: right;\n    }\n</style>\n<table border=\"1\" class=\"dataframe\">\n  <thead>\n    <tr style=\"text-align: right;\">\n      <th></th>\n      <th>identifier</th>\n      <th>start_time</th>\n      <th>end_time</th>\n      <th>duration</th>\n      <th>result</th>\n      <th>start_generate_cubes</th>\n      <th>end_generate_cubes</th>\n      <th>root_node</th>\n      <th>number_send_cubes</th>\n      <th>number_returned_cubes</th>\n    </tr>\n  </thead>\n  <tbody>\n    <tr>\n      <th>0</th>\n      <td>1</td>\n      <td>0.283</td>\n      <td>1.583</td>\n      <td>1.300</td>\n      <td>UNSAT</td>\n      <td>0.307823</td>\n      <td>1.29111</td>\n      <td>1</td>\n      <td>30</td>\n      <td>17</td>\n    </tr>\n    <tr>\n      <th>1</th>\n      <td>2</td>\n      <td>1.583</td>\n      <td>45.201</td>\n      <td>43.618</td>\n      <td>UNSAT</td>\n      <td>1.62128</td>\n      <td>22.9283</td>\n      <td>0</td>\n      <td>32</td>\n      <td>7</td>\n    </tr>\n    <tr>\n      <th>2</th>\n      <td>3</td>\n      <td>45.202</td>\n      <td>92.943</td>\n      <td>47.741</td>\n      <td>UNSAT</td>\n      <td>45.2644</td>\n      <td>67.365</td>\n      <td>0</td>\n      <td>32</td>\n      <td>7</td>\n    </tr>\n    <tr>\n      <th>3</th>\n      <td>4</td>\n      <td>92.943</td>\n      <td>141.960</td>\n      <td>49.017</td>\n      <td>UNSAT</td>\n      <td>93.0206</td>\n      <td>116.685</td>\n      <td>0</td>\n      <td>40</td>\n      <td>10</td>\n    </tr>\n  </tbody>\n</table>\n</div>"
     },
     "metadata": {},
     "execution_count": 4
    }
   ],
   "source": [
    "# Parse new log\n",
    "pd.DataFrame(parse_mallob(\"new/\"))"
   ]
  }
 ]
}