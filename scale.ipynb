{
 "metadata": {
  "language_info": {
   "codemirror_mode": {
    "name": "ipython",
    "version": 3
   },
   "file_extension": ".py",
   "mimetype": "text/x-python",
   "name": "python",
   "nbconvert_exporter": "python",
   "pygments_lexer": "ipython3",
   "version": "3.8.3"
  },
  "orig_nbformat": 2,
  "kernelspec": {
   "name": "python383jvsc74a57bd03bc4332d97874eb5d59f7ecad210981100dee08cee27dc4d86d23440e6ad5a9e",
   "display_name": "Python 3.8.3 64-bit ('base': conda)"
  }
 },
 "nbformat": 4,
 "nbformat_minor": 2,
 "cells": [
  {
   "cell_type": "code",
   "execution_count": 2,
   "metadata": {},
   "outputs": [],
   "source": [
    "import matplotlib\n",
    "import pandas as pd\n",
    "from matplotlib import pyplot as plt\n",
    "# https://towardsdatascience.com/how-to-create-and-customize-venn-diagrams-in-python-263555527305\n",
    "from matplotlib_venn import venn2, venn2_circles\n",
    "from matplotlib_venn import venn3, venn3_circles\n",
    "\n",
    "import numpy as np\n",
    "\n",
    "from extract.jobs import parse_mallob, get_baseline\n",
    "\n",
    "matplotlib.use(\"pgf\")\n",
    "matplotlib.rcParams.update({\n",
    "    \"pgf.texsystem\": \"pdflatex\",\n",
    "    'font.family': 'serif',\n",
    "    'text.usetex': True,\n",
    "    'pgf.rcfonts': False,\n",
    "})"
   ]
  },
  {
   "cell_type": "code",
   "execution_count": 3,
   "metadata": {},
   "outputs": [],
   "source": [
    "static_2_df = pd.DataFrame(parse_mallob(\"benchmark/static_5_1_2_random\"))\n",
    "static_4_df = pd.DataFrame(parse_mallob(\"benchmark/static_4_1_4_new\"))\n",
    "static_8_df = pd.DataFrame(parse_mallob(\"benchmark/static_3_1_8_random\"))"
   ]
  },
  {
   "cell_type": "code",
   "execution_count": 14,
   "metadata": {},
   "outputs": [
    {
     "output_type": "error",
     "ename": "TypeError",
     "evalue": "get_baseline() takes 0 positional arguments but 1 was given",
     "traceback": [
      "\u001b[0;31m---------------------------------------------------------------------------\u001b[0m",
      "\u001b[0;31mTypeError\u001b[0m                                 Traceback (most recent call last)",
      "\u001b[0;32m<ipython-input-14-5c40b39666d6>\u001b[0m in \u001b[0;36m<module>\u001b[0;34m\u001b[0m\n\u001b[0;32m----> 1\u001b[0;31m \u001b[0mbaseline_df\u001b[0m \u001b[0;34m=\u001b[0m \u001b[0mpd\u001b[0m\u001b[0;34m.\u001b[0m\u001b[0mDataFrame\u001b[0m\u001b[0;34m(\u001b[0m\u001b[0mget_baseline\u001b[0m\u001b[0;34m(\u001b[0m\u001b[0;34m\"benchmark/baseline.txt\"\u001b[0m\u001b[0;34m)\u001b[0m\u001b[0;34m)\u001b[0m\u001b[0;34m\u001b[0m\u001b[0;34m\u001b[0m\u001b[0m\n\u001b[0m",
      "\u001b[0;31mTypeError\u001b[0m: get_baseline() takes 0 positional arguments but 1 was given"
     ]
    }
   ],
   "source": [
    "baseline_df = pd.DataFrame(get_baseline(\"benchmark/baseline.txt\"))"
   ]
  },
  {
   "cell_type": "code",
   "execution_count": 4,
   "metadata": {},
   "outputs": [
    {
     "output_type": "execute_result",
     "data": {
      "text/plain": [
       "        two     four    eight  count\n",
       "0       SAT      SAT      SAT     90\n",
       "1       SAT      SAT  UNKNOWN      9\n",
       "2       SAT  UNKNOWN      SAT      5\n",
       "3       SAT  UNKNOWN  UNKNOWN     10\n",
       "4   UNKNOWN      SAT      SAT      2\n",
       "5   UNKNOWN      SAT  UNKNOWN      3\n",
       "6   UNKNOWN  UNKNOWN      SAT      9\n",
       "7   UNKNOWN  UNKNOWN  UNKNOWN    196\n",
       "8   UNKNOWN  UNKNOWN    UNSAT      6\n",
       "9   UNKNOWN    UNSAT  UNKNOWN      1\n",
       "10  UNKNOWN    UNSAT    UNSAT      3\n",
       "11    UNSAT  UNKNOWN  UNKNOWN      3\n",
       "12    UNSAT  UNKNOWN    UNSAT      1\n",
       "13    UNSAT    UNSAT  UNKNOWN      1\n",
       "14    UNSAT    UNSAT    UNSAT     60"
      ],
      "text/html": "<div>\n<style scoped>\n    .dataframe tbody tr th:only-of-type {\n        vertical-align: middle;\n    }\n\n    .dataframe tbody tr th {\n        vertical-align: top;\n    }\n\n    .dataframe thead th {\n        text-align: right;\n    }\n</style>\n<table border=\"1\" class=\"dataframe\">\n  <thead>\n    <tr style=\"text-align: right;\">\n      <th></th>\n      <th>two</th>\n      <th>four</th>\n      <th>eight</th>\n      <th>count</th>\n    </tr>\n  </thead>\n  <tbody>\n    <tr>\n      <th>0</th>\n      <td>SAT</td>\n      <td>SAT</td>\n      <td>SAT</td>\n      <td>90</td>\n    </tr>\n    <tr>\n      <th>1</th>\n      <td>SAT</td>\n      <td>SAT</td>\n      <td>UNKNOWN</td>\n      <td>9</td>\n    </tr>\n    <tr>\n      <th>2</th>\n      <td>SAT</td>\n      <td>UNKNOWN</td>\n      <td>SAT</td>\n      <td>5</td>\n    </tr>\n    <tr>\n      <th>3</th>\n      <td>SAT</td>\n      <td>UNKNOWN</td>\n      <td>UNKNOWN</td>\n      <td>10</td>\n    </tr>\n    <tr>\n      <th>4</th>\n      <td>UNKNOWN</td>\n      <td>SAT</td>\n      <td>SAT</td>\n      <td>2</td>\n    </tr>\n    <tr>\n      <th>5</th>\n      <td>UNKNOWN</td>\n      <td>SAT</td>\n      <td>UNKNOWN</td>\n      <td>3</td>\n    </tr>\n    <tr>\n      <th>6</th>\n      <td>UNKNOWN</td>\n      <td>UNKNOWN</td>\n      <td>SAT</td>\n      <td>9</td>\n    </tr>\n    <tr>\n      <th>7</th>\n      <td>UNKNOWN</td>\n      <td>UNKNOWN</td>\n      <td>UNKNOWN</td>\n      <td>196</td>\n    </tr>\n    <tr>\n      <th>8</th>\n      <td>UNKNOWN</td>\n      <td>UNKNOWN</td>\n      <td>UNSAT</td>\n      <td>6</td>\n    </tr>\n    <tr>\n      <th>9</th>\n      <td>UNKNOWN</td>\n      <td>UNSAT</td>\n      <td>UNKNOWN</td>\n      <td>1</td>\n    </tr>\n    <tr>\n      <th>10</th>\n      <td>UNKNOWN</td>\n      <td>UNSAT</td>\n      <td>UNSAT</td>\n      <td>3</td>\n    </tr>\n    <tr>\n      <th>11</th>\n      <td>UNSAT</td>\n      <td>UNKNOWN</td>\n      <td>UNKNOWN</td>\n      <td>3</td>\n    </tr>\n    <tr>\n      <th>12</th>\n      <td>UNSAT</td>\n      <td>UNKNOWN</td>\n      <td>UNSAT</td>\n      <td>1</td>\n    </tr>\n    <tr>\n      <th>13</th>\n      <td>UNSAT</td>\n      <td>UNSAT</td>\n      <td>UNKNOWN</td>\n      <td>1</td>\n    </tr>\n    <tr>\n      <th>14</th>\n      <td>UNSAT</td>\n      <td>UNSAT</td>\n      <td>UNSAT</td>\n      <td>60</td>\n    </tr>\n  </tbody>\n</table>\n</div>"
     },
     "metadata": {},
     "execution_count": 4
    }
   ],
   "source": [
    "two = static_2_df.set_index(\"identifier\")[\"result\"].rename(\"two\")\n",
    "four = static_4_df.set_index(\"identifier\")[\"result\"].rename(\"four\")\n",
    "eight = static_8_df.set_index(\"identifier\")[\"result\"].rename(\"eight\")\n",
    "\n",
    "result = pd.concat([two, four, eight], axis=1, join=\"outer\").fillna(\"UNKNOWN\")\n",
    "\n",
    "result.groupby(['two', 'four', 'eight']).size().reset_index().rename(columns={0:'count'})"
   ]
  },
  {
   "cell_type": "code",
   "execution_count": 9,
   "metadata": {},
   "outputs": [],
   "source": [
    "fig = plt.figure()\n",
    "\n",
    "# Schnittmenge der gelösten (Löst es die gleichen Instanzen?)\n",
    "venn3(subsets = (10 + 3, 3 + 1, 9 + 1, 9 + 6, 5 + 1, 2 + 3, 90 + 40), set_labels =('$J=2$', '$J=4$', '$J=8$'), set_colors=('#377eb8', '#ff7f00', '#e41a1c'))\n",
    "\n",
    "fig.set_size_inches(w=3, h=2)\n",
    "fig.savefig(\"scale/venn.pdf\")"
   ]
  },
  {
   "cell_type": "code",
   "execution_count": 13,
   "metadata": {},
   "outputs": [],
   "source": [
    "# Vergleiche nicht random mit random\n",
    "fig = plt.figure()\n",
    "fig.subplots_adjust(bottom=0.2, left=0.175)\n",
    "\n",
    "temp_series = static_2_df[static_2_df[\"result\"]!=\"UNKNOWN\"].sort_values(\"duration\").reset_index()[\"duration\"]\n",
    "temp_series = pd.Series(dict((v,k) for k,v in temp_series.iteritems()))\n",
    "ax = temp_series.plot(color=\"#377eb8\", style=\"-.\", figsize=(3,2))\n",
    "\n",
    "temp_series = static_4_df[static_4_df[\"result\"]!=\"UNKNOWN\"].sort_values(\"duration\").reset_index()[\"duration\"]\n",
    "temp_series = pd.Series(dict((v,k) for k,v in temp_series.iteritems()))\n",
    "temp_series.plot(color=\"#ff7f00\", style=\"--\", ax=ax)\n",
    "\n",
    "temp_series = static_8_df[static_8_df[\"result\"]!=\"UNKNOWN\"].sort_values(\"duration\").reset_index()[\"duration\"]\n",
    "temp_series = pd.Series(dict((v,k) for k,v in temp_series.iteritems()))\n",
    "temp_series.plot(color=\"#e41a1c\", style=\":\", ax=ax)\n",
    "\n",
    "ax.set_xlabel(\"run time in s\")\n",
    "ax.set_ylabel(\"\\# solved problems in $\\leq t$ s\")\n",
    "\n",
    "ax.legend(['$J=2$', '$J=4$', '$J=8$'])\n",
    "\n",
    "fig.savefig(\"scale/time.pdf\")"
   ]
  },
  {
   "cell_type": "code",
   "execution_count": 8,
   "metadata": {},
   "outputs": [],
   "source": [
    "fig = plt.figure()\n",
    "fig.subplots_adjust(bottom=0.2, left=0.175)\n",
    "temp_series = static_2_df[static_2_df[\"generate_duration\"]>0].sort_values(\"generate_duration\").reset_index()[\"generate_duration\"]\n",
    "temp_series = pd.Series(dict((v,k) for k,v in temp_series.iteritems()))\n",
    "ax = temp_series.plot(color=\"r\", figsize=(3,2))\n",
    "\n",
    "temp_series = static_4_df[static_4_df[\"generate_duration\"]>0].sort_values(\"generate_duration\").reset_index()[\"generate_duration\"]\n",
    "temp_series = pd.Series(dict((v,k) for k,v in temp_series.iteritems()))\n",
    "temp_series.plot(color=\"g\", ax=ax)\n",
    "\n",
    "temp_series = static_8_df[static_8_df[\"generate_duration\"]>0].sort_values(\"generate_duration\").reset_index()[\"generate_duration\"]\n",
    "temp_series = pd.Series(dict((v,k) for k,v in temp_series.iteritems()))\n",
    "temp_series.plot(color=\"b\", ax=ax)\n",
    "\n",
    "ax.set_xlabel(\"run time in s\")\n",
    "ax.set_ylabel(\"generated cubes in $\\leq t$ s\")\n",
    "\n",
    "ax.legend(['$J=2$', '$J=4$', '$J=8$'])\n",
    "\n",
    "fig.savefig(\"scale/generated.pdf\")\n",
    "\n",
    "# Passende caption hier wichtig\n",
    "# Cubes generated for number of problems in the given time."
   ]
  }
 ]
}